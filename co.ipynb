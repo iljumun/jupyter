{
  "nbformat": 4,
  "nbformat_minor": 0,
  "metadata": {
    "colab": {
      "name": "co.ipynb",
      "provenance": [],
      "collapsed_sections": [],
      "toc_visible": true,
      "authorship_tag": "ABX9TyPZo/4ItgsyYympKWqK1PcX",
      "include_colab_link": true
    },
    "kernelspec": {
      "name": "python3",
      "display_name": "Python 3"
    },
    "accelerator": "GPU"
  },
  "cells": [
    {
      "cell_type": "markdown",
      "metadata": {
        "id": "view-in-github",
        "colab_type": "text"
      },
      "source": [
        "<a href=\"https://colab.research.google.com/github/iljumun/jupyter/blob/master/co.ipynb\" target=\"_parent\"><img src=\"https://colab.research.google.com/assets/colab-badge.svg\" alt=\"Open In Colab\"/></a>"
      ]
    },
    {
      "cell_type": "code",
      "metadata": {
        "id": "vLhxx_ob3sK9",
        "colab_type": "code",
        "colab": {
          "base_uri": "https://localhost:8080/",
          "height": 35
        },
        "outputId": "3f42ad67-759e-4fab-e8c7-267c1c94676c"
      },
      "source": [
        "!python --version"
      ],
      "execution_count": 1,
      "outputs": [
        {
          "output_type": "stream",
          "text": [
            "Python 3.6.9\n"
          ],
          "name": "stdout"
        }
      ]
    },
    {
      "cell_type": "code",
      "metadata": {
        "id": "5_oIuXcC4HCc",
        "colab_type": "code",
        "colab": {
          "base_uri": "https://localhost:8080/",
          "height": 127
        },
        "outputId": "9bc03799-1fc0-4248-e92e-210f417f9160"
      },
      "source": [
        "from google.colab import drive\n",
        "drive.mount('/content/drive')"
      ],
      "execution_count": 2,
      "outputs": [
        {
          "output_type": "stream",
          "text": [
            "Go to this URL in a browser: https://accounts.google.com/o/oauth2/auth?client_id=947318989803-6bn6qk8qdgf4n4g3pfee6491hc0brc4i.apps.googleusercontent.com&redirect_uri=urn%3aietf%3awg%3aoauth%3a2.0%3aoob&response_type=code&scope=email%20https%3a%2f%2fwww.googleapis.com%2fauth%2fdocs.test%20https%3a%2f%2fwww.googleapis.com%2fauth%2fdrive%20https%3a%2f%2fwww.googleapis.com%2fauth%2fdrive.photos.readonly%20https%3a%2f%2fwww.googleapis.com%2fauth%2fpeopleapi.readonly\n",
            "\n",
            "Enter your authorization code:\n",
            "··········\n",
            "Mounted at /content/drive\n"
          ],
          "name": "stdout"
        }
      ]
    },
    {
      "cell_type": "code",
      "metadata": {
        "id": "q_0K0T794hf3",
        "colab_type": "code",
        "colab": {
          "base_uri": "https://localhost:8080/",
          "height": 35
        },
        "outputId": "59a8fcc4-c944-49dc-f551-14af53aec331"
      },
      "source": [
        "!ls '/content/drive/'"
      ],
      "execution_count": 3,
      "outputs": [
        {
          "output_type": "stream",
          "text": [
            "'My Drive'\n"
          ],
          "name": "stdout"
        }
      ]
    },
    {
      "cell_type": "code",
      "metadata": {
        "id": "qVzzEdLq6Hnh",
        "colab_type": "code",
        "colab": {
          "base_uri": "https://localhost:8080/",
          "height": 419
        },
        "outputId": "958602d5-a612-4928-bd89-7f2a2b9a757c"
      },
      "source": [
        "import pandas as pd\n",
        "df = pd.read_csv('../content/drive/My Drive/project/data/서울특별시 공공자전거 이용정보(월별)_2017_1_12.csv', encoding='cp949')\n",
        "df"
      ],
      "execution_count": 4,
      "outputs": [
        {
          "output_type": "execute_result",
          "data": {
            "text/html": [
              "<div>\n",
              "<style scoped>\n",
              "    .dataframe tbody tr th:only-of-type {\n",
              "        vertical-align: middle;\n",
              "    }\n",
              "\n",
              "    .dataframe tbody tr th {\n",
              "        vertical-align: top;\n",
              "    }\n",
              "\n",
              "    .dataframe thead th {\n",
              "        text-align: right;\n",
              "    }\n",
              "</style>\n",
              "<table border=\"1\" class=\"dataframe\">\n",
              "  <thead>\n",
              "    <tr style=\"text-align: right;\">\n",
              "      <th></th>\n",
              "      <th>대여일자</th>\n",
              "      <th>대여소번호</th>\n",
              "      <th>대여소</th>\n",
              "      <th>대여구분코드</th>\n",
              "      <th>성별</th>\n",
              "      <th>연령대코드</th>\n",
              "      <th>이용건수</th>\n",
              "      <th>운동량</th>\n",
              "      <th>탄소량</th>\n",
              "      <th>이동거리(M)</th>\n",
              "      <th>이동시간(분)</th>\n",
              "    </tr>\n",
              "  </thead>\n",
              "  <tbody>\n",
              "    <tr>\n",
              "      <th>0</th>\n",
              "      <td>2017-01-01</td>\n",
              "      <td>503</td>\n",
              "      <td>더샵스타시티 C동 앞</td>\n",
              "      <td>정기</td>\n",
              "      <td>F</td>\n",
              "      <td>~10대</td>\n",
              "      <td>7</td>\n",
              "      <td>389.44</td>\n",
              "      <td>3.51</td>\n",
              "      <td>15130</td>\n",
              "      <td>105</td>\n",
              "    </tr>\n",
              "    <tr>\n",
              "      <th>1</th>\n",
              "      <td>2017-01-01</td>\n",
              "      <td>509</td>\n",
              "      <td>이마트 버스정류소 옆</td>\n",
              "      <td>정기</td>\n",
              "      <td>F</td>\n",
              "      <td>~10대</td>\n",
              "      <td>2</td>\n",
              "      <td>239.50</td>\n",
              "      <td>2.33</td>\n",
              "      <td>10080</td>\n",
              "      <td>58</td>\n",
              "    </tr>\n",
              "    <tr>\n",
              "      <th>2</th>\n",
              "      <td>2017-01-01</td>\n",
              "      <td>300</td>\n",
              "      <td>정동사거리</td>\n",
              "      <td>정기</td>\n",
              "      <td>F</td>\n",
              "      <td>~10대</td>\n",
              "      <td>2</td>\n",
              "      <td>370.93</td>\n",
              "      <td>2.68</td>\n",
              "      <td>11580</td>\n",
              "      <td>108</td>\n",
              "    </tr>\n",
              "    <tr>\n",
              "      <th>3</th>\n",
              "      <td>2017-01-01</td>\n",
              "      <td>301</td>\n",
              "      <td>경복궁역 7번출구 앞</td>\n",
              "      <td>정기</td>\n",
              "      <td>F</td>\n",
              "      <td>~10대</td>\n",
              "      <td>3</td>\n",
              "      <td>140.03</td>\n",
              "      <td>1.26</td>\n",
              "      <td>5440</td>\n",
              "      <td>80</td>\n",
              "    </tr>\n",
              "    <tr>\n",
              "      <th>4</th>\n",
              "      <td>2017-01-01</td>\n",
              "      <td>304</td>\n",
              "      <td>광화문역 2번출구 앞</td>\n",
              "      <td>정기</td>\n",
              "      <td>F</td>\n",
              "      <td>~10대</td>\n",
              "      <td>1</td>\n",
              "      <td>28.10</td>\n",
              "      <td>0.30</td>\n",
              "      <td>1290</td>\n",
              "      <td>11</td>\n",
              "    </tr>\n",
              "    <tr>\n",
              "      <th>...</th>\n",
              "      <td>...</td>\n",
              "      <td>...</td>\n",
              "      <td>...</td>\n",
              "      <td>...</td>\n",
              "      <td>...</td>\n",
              "      <td>...</td>\n",
              "      <td>...</td>\n",
              "      <td>...</td>\n",
              "      <td>...</td>\n",
              "      <td>...</td>\n",
              "      <td>...</td>\n",
              "    </tr>\n",
              "    <tr>\n",
              "      <th>217455</th>\n",
              "      <td>2017-12-01</td>\n",
              "      <td>2002</td>\n",
              "      <td>노들역 1번출구</td>\n",
              "      <td>단체</td>\n",
              "      <td>M</td>\n",
              "      <td>50대</td>\n",
              "      <td>1</td>\n",
              "      <td>190.99</td>\n",
              "      <td>1.72</td>\n",
              "      <td>7420</td>\n",
              "      <td>53</td>\n",
              "    </tr>\n",
              "    <tr>\n",
              "      <th>217456</th>\n",
              "      <td>2017-12-01</td>\n",
              "      <td>2003</td>\n",
              "      <td>사육신공원앞</td>\n",
              "      <td>단체</td>\n",
              "      <td>M</td>\n",
              "      <td>50대</td>\n",
              "      <td>1</td>\n",
              "      <td>181.21</td>\n",
              "      <td>1.63</td>\n",
              "      <td>7040</td>\n",
              "      <td>48</td>\n",
              "    </tr>\n",
              "    <tr>\n",
              "      <th>217457</th>\n",
              "      <td>2017-12-01</td>\n",
              "      <td>1303</td>\n",
              "      <td>돈암초교 입구</td>\n",
              "      <td>단체</td>\n",
              "      <td>M</td>\n",
              "      <td>50대</td>\n",
              "      <td>2</td>\n",
              "      <td>239.78</td>\n",
              "      <td>2.00</td>\n",
              "      <td>8650</td>\n",
              "      <td>89</td>\n",
              "    </tr>\n",
              "    <tr>\n",
              "      <th>217458</th>\n",
              "      <td>2017-12-01</td>\n",
              "      <td>2219</td>\n",
              "      <td>고속터미널역 8-1번, 8-2번 출구 사이</td>\n",
              "      <td>단체</td>\n",
              "      <td>M</td>\n",
              "      <td>60대</td>\n",
              "      <td>3</td>\n",
              "      <td>615.66</td>\n",
              "      <td>4.15</td>\n",
              "      <td>17870</td>\n",
              "      <td>102</td>\n",
              "    </tr>\n",
              "    <tr>\n",
              "      <th>217459</th>\n",
              "      <td>2017-12-01</td>\n",
              "      <td>576</td>\n",
              "      <td>광나루역 3번 출구</td>\n",
              "      <td>단체</td>\n",
              "      <td>M</td>\n",
              "      <td>70대~</td>\n",
              "      <td>4</td>\n",
              "      <td>494.98</td>\n",
              "      <td>4.46</td>\n",
              "      <td>19230</td>\n",
              "      <td>162</td>\n",
              "    </tr>\n",
              "  </tbody>\n",
              "</table>\n",
              "<p>217460 rows × 11 columns</p>\n",
              "</div>"
            ],
            "text/plain": [
              "              대여일자 대여소번호                       대여소  ...   탄소량 이동거리(M) 이동시간(분)\n",
              "0       2017-01-01   503               더샵스타시티 C동 앞  ...  3.51   15130     105\n",
              "1       2017-01-01   509               이마트 버스정류소 옆  ...  2.33   10080      58\n",
              "2       2017-01-01   300                     정동사거리  ...  2.68   11580     108\n",
              "3       2017-01-01   301               경복궁역 7번출구 앞  ...  1.26    5440      80\n",
              "4       2017-01-01   304               광화문역 2번출구 앞  ...  0.30    1290      11\n",
              "...            ...   ...                       ...  ...   ...     ...     ...\n",
              "217455  2017-12-01  2002                  노들역 1번출구  ...  1.72    7420      53\n",
              "217456  2017-12-01  2003                    사육신공원앞  ...  1.63    7040      48\n",
              "217457  2017-12-01  1303                   돈암초교 입구  ...  2.00    8650      89\n",
              "217458  2017-12-01  2219   고속터미널역 8-1번, 8-2번 출구 사이  ...  4.15   17870     102\n",
              "217459  2017-12-01   576                광나루역 3번 출구  ...  4.46   19230     162\n",
              "\n",
              "[217460 rows x 11 columns]"
            ]
          },
          "metadata": {
            "tags": []
          },
          "execution_count": 4
        }
      ]
    },
    {
      "cell_type": "code",
      "metadata": {
        "id": "arXySUzb95Gn",
        "colab_type": "code",
        "colab": {
          "base_uri": "https://localhost:8080/",
          "height": 53
        },
        "outputId": "f536f347-5cc6-4386-d3b3-e0feb8e40c11"
      },
      "source": [
        "!git clone https://github.com/JejuDaconProject/DATA.git"
      ],
      "execution_count": 4,
      "outputs": [
        {
          "output_type": "stream",
          "text": [
            "Cloning into 'DATA'...\n",
            "fatal: could not read Username for 'https://github.com': No such device or address\n"
          ],
          "name": "stdout"
        }
      ]
    },
    {
      "cell_type": "code",
      "metadata": {
        "id": "7Sfgzk6_ArRq",
        "colab_type": "code",
        "colab": {
          "base_uri": "https://localhost:8080/",
          "height": 71
        },
        "outputId": "2f7a5b61-c63a-494f-cc80-6562b7d396cb"
      },
      "source": [
        "ls -ltr"
      ],
      "execution_count": 3,
      "outputs": [
        {
          "output_type": "stream",
          "text": [
            "total 8\n",
            "drwxr-xr-x 1 root root 4096 Jun 17 16:18 \u001b[0m\u001b[01;34msample_data\u001b[0m/\n",
            "drwx------ 4 root root 4096 Jun 26 00:09 \u001b[01;34mdrive\u001b[0m/\n"
          ],
          "name": "stdout"
        }
      ]
    }
  ]
}